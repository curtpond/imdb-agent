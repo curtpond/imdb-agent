{
 "cells": [
  {
   "cell_type": "markdown",
   "metadata": {},
   "source": [
    "# IMDB Data Preparation for Snowflake\n",
    "\n",
    "This notebook prepares the IMDB dataset for Snowflake ingestion and AI agent use."
   ]
  },
  {
   "cell_type": "code",
   "execution_count": null,
   "metadata": {},
   "source": [
    "import pandas as pd\n",
    "import sys\n",
    "sys.path.append('..')\n",
    "from data_preparation import prepare_data_for_snowflake, save_for_snowflake\n",
    "from text_preprocessing import *\n",
    "\n",
    "# Load and preprocess the data\n",
    "df = pd.read_csv('../data/imdb_top_1000.csv')\n",
    "\n",
    "# Apply text preprocessing\n",
    "df['processed_overview'] = df['Overview'].apply(preprocess_text)\n",
    "df['keywords'] = df['Overview'].apply(lambda x: extract_keywords(x, n_keywords=5))\n",
    "\n",
    "# Prepare normalized dataframes\n",
    "prepared_data = prepare_data_for_snowflake(df)\n",
    "\n",
    "# Create output directory for processed data\n",
    "!mkdir -p ../data/processed\n",
    "\n",
    "# Save prepared data\n",
    "save_for_snowflake(prepared_data, '../data/processed')"
   ]
  },
  {
   "cell_type": "markdown",
   "metadata": {},
   "source": [
    "## Data Schema Overview\n",
    "\n",
    "The data has been normalized into the following tables:\n",
    "\n",
    "1. **movies** - Main table with movie information\n",
    "   - movie_id (PK)\n",
    "   - Series_Title\n",
    "   - release_year\n",
    "   - Certificate\n",
    "   - runtime_minutes\n",
    "   - IMDB_Rating\n",
    "   - Meta_score\n",
    "   - No_of_Votes\n",
    "   - gross_amount\n",
    "   - processed_overview\n",
    "   - created_at\n",
    "   - updated_at\n",
    "\n",
    "2. **genres** - Movie-genre relationships\n",
    "   - movie_id (FK)\n",
    "   - genre\n",
    "   - created_at\n",
    "   - updated_at\n",
    "\n",
    "3. **credits** - Movie credits (directors and stars)\n",
    "   - movie_id (FK)\n",
    "   - person_name\n",
    "   - role\n",
    "   - created_at\n",
    "   - updated_at\n",
    "\n",
    "4. **keywords** - Extracted keywords from movie overviews\n",
    "   - movie_id (FK)\n",
    "   - keyword\n",
    "   - created_at\n",
    "   - updated_at"
   ]
  }
 ],
 "metadata": {
  "kernelspec": {
   "display_name": "Python 3",
   "language": "python",
   "name": "python3"
  }
 },
 "nbformat": 4,
 "nbformat_minor": 4
}
